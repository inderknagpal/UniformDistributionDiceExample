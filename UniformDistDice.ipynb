import numpy as np
import matplotlib.pyplot as plt
npdiceArray = np.array([0,0,0,0,0,0])
print(npdiceArray)
for cnt in range(1,10001):
    npdiceArray[(np.random.randint(1,7))-1]+=1

print(npdiceArray)
pdf, bins, patches = plt.hist(npdiceArray, bins=20, range=(1500, 2000), density=True,label='str')
#I have taken range=(1500,2000) as 99% the distribution of random numbers dice will be in the range when taken a sample of 10000
plt.title('Uniform Distribution')
plt.show()
